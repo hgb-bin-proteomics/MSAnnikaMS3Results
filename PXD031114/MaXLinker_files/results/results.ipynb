{
 "cells": [
  {
   "cell_type": "code",
   "execution_count": 3,
   "id": "6ad73320-f153-4928-a51d-00d84e033fbc",
   "metadata": {},
   "outputs": [
    {
     "name": "stdout",
     "output_type": "stream",
     "text": [
      "A1 nr of xl:  68 ; fp:  0\n",
      "A2 nr of xl:  67 ; fp:  0\n",
      "B1 nr of xl:  84 ; fp:  0\n",
      "B2 nr of xl:  80 ; fp:  0\n",
      "C1 nr of xl:  84 ; fp:  0\n",
      "C2 nr of xl:  87 ; fp:  0\n"
     ]
    }
   ],
   "source": [
    "import pandas as pd\n",
    "\n",
    "def get_nr_xl(df):\n",
    "    return df.shape[0]\n",
    "\n",
    "def get_fp(df):\n",
    "    fp = 0\n",
    "    fp_idx = []\n",
    "    for i, row in df.iterrows():\n",
    "        if \"escherichia coli\" in row[\"Protein_a description\"].lower() or \"escherichia coli\" in row[\"Protein_b description\"].lower():\n",
    "            fp += 1\n",
    "            fp_idx.append(i)\n",
    "    return fp\n",
    "\n",
    "A_1 = pd.read_csv(\"HEK_DSSO_sampleA_stepHCD212733_MS3_top2_1_uniq.tsv\", sep = \"\\t\")\n",
    "A_2 = pd.read_csv(\"HEK_DSSO_sampleA_stepHCD212733_MS3_top2_2_uniq.tsv\", sep = \"\\t\")\n",
    "B_1 = pd.read_csv(\"HEK_DSSO_sampleB_stepHCD212733_MS3_top2_1_uniq.tsv\", sep = \"\\t\")\n",
    "B_2 = pd.read_csv(\"HEK_DSSO_sampleB_stepHCD212733_MS3_top2_2_uniq.tsv\", sep = \"\\t\")\n",
    "C_1 = pd.read_csv(\"HEK_DSSO_sampleC_stepHCD212733_MS3_top2_1_uniq.tsv\", sep = \"\\t\")\n",
    "C_2 = pd.read_csv(\"HEK_DSSO_sampleC_stepHCD212733_MS3_top2_2_uniq.tsv\", sep = \"\\t\")\n",
    "\n",
    "print(\"A1 nr of xl: \", get_nr_xl(A_1), \"; fp: \", get_fp(A_1))\n",
    "print(\"A2 nr of xl: \", get_nr_xl(A_2), \"; fp: \", get_fp(A_2))\n",
    "print(\"B1 nr of xl: \", get_nr_xl(B_1), \"; fp: \", get_fp(B_1))\n",
    "print(\"B2 nr of xl: \", get_nr_xl(B_2), \"; fp: \", get_fp(B_2))\n",
    "print(\"C1 nr of xl: \", get_nr_xl(C_1), \"; fp: \", get_fp(C_1))\n",
    "print(\"C2 nr of xl: \", get_nr_xl(C_2), \"; fp: \", get_fp(C_2))"
   ]
  },
  {
   "cell_type": "code",
   "execution_count": null,
   "id": "5a15443a-51f1-4c62-a8f4-76537028d6d3",
   "metadata": {},
   "outputs": [],
   "source": []
  }
 ],
 "metadata": {
  "kernelspec": {
   "display_name": "Python 3 (ipykernel)",
   "language": "python",
   "name": "python3"
  },
  "language_info": {
   "codemirror_mode": {
    "name": "ipython",
    "version": 3
   },
   "file_extension": ".py",
   "mimetype": "text/x-python",
   "name": "python",
   "nbconvert_exporter": "python",
   "pygments_lexer": "ipython3",
   "version": "3.7.3"
  }
 },
 "nbformat": 4,
 "nbformat_minor": 5
}
