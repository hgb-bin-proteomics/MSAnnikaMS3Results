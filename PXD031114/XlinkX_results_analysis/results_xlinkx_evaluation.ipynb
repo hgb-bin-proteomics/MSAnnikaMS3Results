{
 "cells": [
  {
   "cell_type": "code",
   "execution_count": 6,
   "id": "e46a4f29-f667-45c1-add2-16f5151320b5",
   "metadata": {},
   "outputs": [],
   "source": [
    "import pandas as pd\n",
    "\n",
    "def get_tp_fp(row):\n",
    "    if \"escherichia coli\" in row[\"Protein Descriptions A\"].lower() or \"escherichia coli\" in row[\"Protein Descriptions B\"].lower():\n",
    "        return \"fp\"\n",
    "    else:\n",
    "        return \"tp\"\n",
    "\n",
    "def get_cutoff_for_fdr(input_df, fdr = 0.01):\n",
    "    input_df[\"TP/FP\"] = input_df.apply(lambda row: get_tp_fp(row), axis = 1)\n",
    "    scores = input_df[\"Max. XlinkX Score\"].to_list()\n",
    "    f_score = 0\n",
    "    for score in sorted(scores):\n",
    "        df = input_df[input_df[\"Max. XlinkX Score\"] > score]\n",
    "        if df[df[\"TP/FP\"] == \"fp\"].shape[0] / df.shape[0] < fdr:\n",
    "            f_score = score\n",
    "            break\n",
    "    return [input_df.shape[0], input_df[input_df[\"TP/FP\"] == \"fp\"].shape[0], f_score, input_df[input_df[\"Max. XlinkX Score\"] > f_score].shape[0]]\n",
    "\n",
    "df_1 = pd.read_excel(\"HEK_DSSO_sampleA_stepHCD212733_MS3_top2_1.xlsx\")\n",
    "df_2 = pd.read_excel(\"HEK_DSSO_sampleA_stepHCD212733_MS3_top2_2.xlsx\")\n",
    "df_3 = pd.read_excel(\"HEK_DSSO_sampleB_stepHCD212733_MS3_top2_1.xlsx\")\n",
    "df_4 = pd.read_excel(\"HEK_DSSO_sampleB_stepHCD212733_MS3_top2_2.xlsx\")\n",
    "df_5 = pd.read_excel(\"HEK_DSSO_sampleC_stepHCD212733_MS3_top2_1.xlsx\")\n",
    "df_6 = pd.read_excel(\"HEK_DSSO_sampleC_stepHCD212733_MS3_top2_2.xlsx\")"
   ]
  },
  {
   "cell_type": "code",
   "execution_count": 7,
   "id": "250445b8-d2d6-4c22-ac9a-472849d76b2a",
   "metadata": {},
   "outputs": [
    {
     "data": {
      "text/plain": [
       "[370, 24, 99.51, 114]"
      ]
     },
     "execution_count": 7,
     "metadata": {},
     "output_type": "execute_result"
    }
   ],
   "source": [
    "get_cutoff_for_fdr(df_1)"
   ]
  },
  {
   "cell_type": "code",
   "execution_count": 8,
   "id": "92c714d6-98ea-4a05-af64-e3ac38a43fed",
   "metadata": {},
   "outputs": [
    {
     "data": {
      "text/plain": [
       "[402, 19, 99.51, 116]"
      ]
     },
     "execution_count": 8,
     "metadata": {},
     "output_type": "execute_result"
    }
   ],
   "source": [
    "get_cutoff_for_fdr(df_2)"
   ]
  },
  {
   "cell_type": "code",
   "execution_count": 9,
   "id": "cc7c907a-3ba1-4476-b01b-18ad30d58ed2",
   "metadata": {},
   "outputs": [
    {
     "data": {
      "text/plain": [
       "[421, 24, 97.31, 140]"
      ]
     },
     "execution_count": 9,
     "metadata": {},
     "output_type": "execute_result"
    }
   ],
   "source": [
    "get_cutoff_for_fdr(df_3)"
   ]
  },
  {
   "cell_type": "code",
   "execution_count": 10,
   "id": "7aeeb3e8-6d5b-4c78-9402-1dea8f6b7d25",
   "metadata": {},
   "outputs": [
    {
     "data": {
      "text/plain": [
       "[390, 22, 97.31, 130]"
      ]
     },
     "execution_count": 10,
     "metadata": {},
     "output_type": "execute_result"
    }
   ],
   "source": [
    "get_cutoff_for_fdr(df_4)"
   ]
  },
  {
   "cell_type": "code",
   "execution_count": 11,
   "id": "c4bf51bc-1cf5-4909-9f04-7b442602bf8e",
   "metadata": {},
   "outputs": [
    {
     "data": {
      "text/plain": [
       "[407, 19, 97.31, 134]"
      ]
     },
     "execution_count": 11,
     "metadata": {},
     "output_type": "execute_result"
    }
   ],
   "source": [
    "get_cutoff_for_fdr(df_5)"
   ]
  },
  {
   "cell_type": "code",
   "execution_count": 12,
   "id": "64a5b689-b3f2-4e6b-9f12-da90c1c500d0",
   "metadata": {},
   "outputs": [
    {
     "data": {
      "text/plain": [
       "[433, 16, 97.31, 136]"
      ]
     },
     "execution_count": 12,
     "metadata": {},
     "output_type": "execute_result"
    }
   ],
   "source": [
    "get_cutoff_for_fdr(df_6)"
   ]
  },
  {
   "cell_type": "code",
   "execution_count": null,
   "id": "146e98a8-9d86-4026-995b-13a089b559e3",
   "metadata": {},
   "outputs": [],
   "source": []
  }
 ],
 "metadata": {
  "kernelspec": {
   "display_name": "Python 3 (ipykernel)",
   "language": "python",
   "name": "python3"
  },
  "language_info": {
   "codemirror_mode": {
    "name": "ipython",
    "version": 3
   },
   "file_extension": ".py",
   "mimetype": "text/x-python",
   "name": "python",
   "nbconvert_exporter": "python",
   "pygments_lexer": "ipython3",
   "version": "3.7.3"
  }
 },
 "nbformat": 4,
 "nbformat_minor": 5
}
