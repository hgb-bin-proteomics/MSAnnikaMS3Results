{
 "cells": [
  {
   "cell_type": "code",
   "execution_count": 1,
   "id": "0dec26ae-f766-4376-b7cf-86a49ba97851",
   "metadata": {},
   "outputs": [
    {
     "name": "stdout",
     "output_type": "stream",
     "text": [
      "Test:  ADBCDEF\n",
      "Annika:  [13, 0, 24.14, 12] ; MaXLinker:  [9, 0, 29.81, 8] ; XlinkX:  [16, 2, 30.58, 9]\n",
      "Annika:  [14, 0, 38.73, 13] ; MaXLinker:  [12, 0, 29.78, 11] ; XlinkX:  [18, 1, 92.3, 7]\n",
      "Annika:  [14, 0, 52.89, 13] ; MaXLinker:  [9, 0, 39.93, 8] ; XlinkX:  [18, 0, 10.87, 17]\n",
      "Annika:  [29, 4, 25.86, 25] ; MaXLinker:  [14, 1, 59.85, 12] ; XlinkX:  [26, 4, 84.36, 9]\n",
      "Annika:  [10, 0, 102.74, 9] ; MaXLinker:  [16, 1, 39.47, 15] ; XlinkX:  [26, 2, 145.31, 4]\n",
      "Annika:  [27, 2, 64.72, 17] ; MaXLinker:  [14, 1, 59.92, 13] ; XlinkX:  [23, 3, 121.77, 7]\n",
      "Annika:  [10, 0, 62.33, 9] ; MaXLinker:  [9, 1, 59.83, 7] ; XlinkX:  [16, 2, 96.67, 7]\n",
      "Annika:  [19, 2, 35.87, 15] ; MaXLinker:  [11, 1, 59.9, 10] ; XlinkX:  [17, 2, 7.32, 15]\n",
      "Annika:  [14, 0, 45.56, 13] ; MaXLinker:  [10, 0, 59.9, 9] ; XlinkX:  [14, 1, 5.85, 13]\n"
     ]
    }
   ],
   "source": [
    "import pandas as pd\n",
    "\n",
    "nsp7 = \"SKMSDVKCTSVVLLSVLQQLRVESSSKLWAQCVQLHNDILLAKDTTEAFEKMVSLLSVLLSMQGAVDINKLCEEMLDNRATLQ\"\n",
    "nsp8 = \"AIASEFSSLPSYAAFATAQEAYEQAVANGDSEVVLKKLKKSLNVAKSEFDRDAAMQRKLEKMADQAMTQMYKQARSEDKRAKVTSAMQTMLFTMLRKLDNDALNNIINNARDGCVPLNIIPLTTAAKLMVVIPDYNTYKNTCDGTTFTYASALWEIQQVVDADSKIVQLSEISMDNSPNLAWPLIVTALRANSAVKLQ\"\n",
    "\n",
    "df_1_m = pd.read_csv(\"202001216_nsp7nsp8_1to1_trypsin_XL_REP1_uniq_gbSeqPos.tsv\", sep = \"\\t\")\n",
    "df_2_m = pd.read_csv(\"202001216_nsp7nsp8_1to1_trypsin_XL_REP2_uniq_gbSeqPos.tsv\", sep = \"\\t\")\n",
    "df_3_m = pd.read_csv(\"202001216_nsp7nsp8_1to1_trypsin_XL_REP3_uniq_gbSeqPos.tsv\", sep = \"\\t\")\n",
    "df_4_m = pd.read_csv(\"202001216_nsp7nsp8_1to2_trypsin_XL_REP1_uniq_gbSeqPos.tsv\", sep = \"\\t\")\n",
    "df_5_m = pd.read_csv(\"202001216_nsp7nsp8_1to2_trypsin_XL_REP2_uniq_gbSeqPos.tsv\", sep = \"\\t\")\n",
    "df_6_m = pd.read_csv(\"202001216_nsp7nsp8_1to2_trypsin_XL_REP3_uniq_gbSeqPos.tsv\", sep = \"\\t\")\n",
    "df_7_m = pd.read_csv(\"202001216_nsp8_trypsin_XL_REP1_uniq_gbSeqPos.tsv\", sep = \"\\t\")\n",
    "df_8_m = pd.read_csv(\"202001216_nsp8_trypsin_XL_REP2_uniq_gbSeqPos.tsv\", sep = \"\\t\")\n",
    "df_9_m = pd.read_csv(\"202001216_nsp8_trypsin_XL_REP3_uniq_gbSeqPos.tsv\", sep = \"\\t\")\n",
    "\n",
    "df_1_a = pd.read_excel(\"annika_results/202001216_nsp7nsp8_1to1_trypsin_XL_REP1.xlsx\")\n",
    "df_2_a = pd.read_excel(\"annika_results/202001216_nsp7nsp8_1to1_trypsin_XL_REP2.xlsx\")\n",
    "df_3_a = pd.read_excel(\"annika_results/202001216_nsp7nsp8_1to1_trypsin_XL_REP3.xlsx\")\n",
    "df_4_a = pd.read_excel(\"annika_results/202001216_nsp7nsp8_1to2_trypsin_XL_REP1.xlsx\")\n",
    "df_5_a = pd.read_excel(\"annika_results/202001216_nsp7nsp8_1to2_trypsin_XL_REP2.xlsx\")\n",
    "df_6_a = pd.read_excel(\"annika_results/202001216_nsp7nsp8_1to2_trypsin_XL_REP3.xlsx\")\n",
    "df_7_a = pd.read_excel(\"annika_results/202001216_nsp8_trypsin_XL_REP1.xlsx\")\n",
    "df_8_a = pd.read_excel(\"annika_results/202001216_nsp8_trypsin_XL_REP2.xlsx\")\n",
    "df_9_a = pd.read_excel(\"annika_results/202001216_nsp8_trypsin_XL_REP3.xlsx\")\n",
    "\n",
    "df_1_x = pd.read_excel(\"xlinkx_results/202001216_nsp7nsp8_1to1_trypsin_XL_REP1.xlsx\")\n",
    "df_2_x = pd.read_excel(\"xlinkx_results/202001216_nsp7nsp8_1to1_trypsin_XL_REP2.xlsx\")\n",
    "df_3_x = pd.read_excel(\"xlinkx_results/202001216_nsp7nsp8_1to1_trypsin_XL_REP3.xlsx\")\n",
    "df_4_x = pd.read_excel(\"xlinkx_results/202001216_nsp7nsp8_1to2_trypsin_XL_REP1.xlsx\")\n",
    "df_5_x = pd.read_excel(\"xlinkx_results/202001216_nsp7nsp8_1to2_trypsin_XL_REP2.xlsx\")\n",
    "df_6_x = pd.read_excel(\"xlinkx_results/202001216_nsp7nsp8_1to2_trypsin_XL_REP3.xlsx\")\n",
    "df_7_x = pd.read_excel(\"xlinkx_results/202001216_nsp8_trypsin_XL_REP1-(1).xlsx\")\n",
    "df_8_x = pd.read_excel(\"xlinkx_results/202001216_nsp8_trypsin_XL_REP2-(2).xlsx\")\n",
    "df_9_x = pd.read_excel(\"xlinkx_results/202001216_nsp8_trypsin_XL_REP3.xlsx\")\n",
    "\n",
    "def clean_sequence(sequence):\n",
    "    return sequence.replace(\"[\", \"\").replace(\"]\", \"\").upper()\n",
    "\n",
    "print(\"Test: \", clean_sequence(\"adb[cd]ef\"))\n",
    "\n",
    "def xlinkx_get_tp_fp_nsp7nsp8(row):\n",
    "    if (clean_sequence(row[\"Sequence A\"]) in nsp7 or clean_sequence(row[\"Sequence A\"]) in nsp8) and (clean_sequence(row[\"Sequence B\"]) in nsp7 or clean_sequence(row[\"Sequence B\"]) in nsp8):\n",
    "        return \"tp\"\n",
    "    else:\n",
    "        return \"fp\"\n",
    "      \n",
    "def xlinkx_get_tp_fp_nsp8(row):\n",
    "    if clean_sequence(row[\"Sequence A\"]) in nsp8 and clean_sequence(row[\"Sequence B\"]) in nsp8:\n",
    "        return \"tp\"\n",
    "    else:\n",
    "        return \"fp\"\n",
    "      \n",
    "def xlinkx_get_cutoff_for_fdr_nsp7nsp8(input_df, fdr = 0.01):\n",
    "    input_df[\"TP/FP\"] = input_df.apply(lambda row: xlinkx_get_tp_fp_nsp7nsp8(row), axis = 1)\n",
    "    scores = input_df[\"Max. XlinkX Score\"].to_list()\n",
    "    f_score = 0\n",
    "    for score in sorted(scores):\n",
    "        df = input_df[input_df[\"Max. XlinkX Score\"] > score]\n",
    "        if df[df[\"TP/FP\"] == \"fp\"].shape[0] / df.shape[0] < fdr:\n",
    "            f_score = score\n",
    "            break\n",
    "    return [input_df.shape[0], input_df[input_df[\"TP/FP\"] == \"fp\"].shape[0], f_score, input_df[input_df[\"Max. XlinkX Score\"] > f_score].shape[0]]\n",
    "\n",
    "def xlinkx_get_cutoff_for_fdr_nsp8(input_df, fdr = 0.01):\n",
    "    input_df[\"TP/FP\"] = input_df.apply(lambda row: xlinkx_get_tp_fp_nsp8(row), axis = 1)\n",
    "    scores = input_df[\"Max. XlinkX Score\"].to_list()\n",
    "    f_score = 0\n",
    "    for score in sorted(scores):\n",
    "        df = input_df[input_df[\"Max. XlinkX Score\"] > score]\n",
    "        if df[df[\"TP/FP\"] == \"fp\"].shape[0] / df.shape[0] < fdr:\n",
    "            f_score = score\n",
    "            break\n",
    "    return [input_df.shape[0], input_df[input_df[\"TP/FP\"] == \"fp\"].shape[0], f_score, input_df[input_df[\"Max. XlinkX Score\"] > f_score].shape[0]]\n",
    "      \n",
    "def maxlinker_get_tp_fp_nsp7nsp8(row):\n",
    "    if (\"nsp7\" in row[\"Protein_a description\"].lower() or \"nsp8\" in row[\"Protein_a description\"].lower()) and (\"nsp7\" in row[\"Protein_b description\"].lower() or \"nsp8\" in row[\"Protein_b description\"].lower()):\n",
    "        return \"tp\"\n",
    "    else:\n",
    "        return \"fp\"\n",
    "    \n",
    "def maxlinker_get_tp_fp_nsp8(row):\n",
    "    if \"nsp8\" in row[\"Protein_a description\"].lower() and \"nsp8\" in row[\"Protein_b description\"].lower():\n",
    "        return \"tp\"\n",
    "    else:\n",
    "        return \"fp\"\n",
    "\n",
    "def maxlinker_get_cutoff_for_fdr_nsp7nsp8(input_df, fdr = 0.01):\n",
    "    input_df[\"TP/FP\"] = input_df.apply(lambda row: maxlinker_get_tp_fp_nsp7nsp8(row), axis = 1)\n",
    "    scores = input_df[\"Score\"].to_list()\n",
    "    f_score = 0\n",
    "    for score in sorted(scores):\n",
    "        df = input_df[input_df[\"Score\"] > score]\n",
    "        if df[df[\"TP/FP\"] == \"fp\"].shape[0] / df.shape[0] < fdr:\n",
    "            f_score = score\n",
    "            break\n",
    "    return [input_df.shape[0], input_df[input_df[\"TP/FP\"] == \"fp\"].shape[0], f_score, input_df[input_df[\"Score\"] > f_score].shape[0]]\n",
    "\n",
    "def maxlinker_get_cutoff_for_fdr_nsp8(input_df, fdr = 0.01):\n",
    "    input_df[\"TP/FP\"] = input_df.apply(lambda row: maxlinker_get_tp_fp_nsp8(row), axis = 1)\n",
    "    scores = input_df[\"Score\"].to_list()\n",
    "    f_score = 0\n",
    "    for score in sorted(scores):\n",
    "        df = input_df[input_df[\"Score\"] > score]\n",
    "        if df[df[\"TP/FP\"] == \"fp\"].shape[0] / df.shape[0] < fdr:\n",
    "            f_score = score\n",
    "            break\n",
    "    return [input_df.shape[0], input_df[input_df[\"TP/FP\"] == \"fp\"].shape[0], f_score, input_df[input_df[\"Score\"] > f_score].shape[0]]\n",
    "\n",
    "def annika_get_tp_fp_nsp7nsp8(row):\n",
    "    if (\"nsp7\" in row[\"Protein Descriptions A\"].lower() or \"nsp8\" in row[\"Protein Descriptions A\"].lower()) and (\"nsp7\" in row[\"Protein Descriptions B\"].lower() or \"nsp8\" in row[\"Protein Descriptions B\"].lower()):\n",
    "        return \"tp\"\n",
    "    else:\n",
    "        return \"fp\"\n",
    "    \n",
    "def annika_get_tp_fp_nsp8(row):\n",
    "    if \"nsp8\" in row[\"Protein Descriptions A\"].lower() and \"nsp8\" in row[\"Protein Descriptions B\"].lower():\n",
    "        return \"tp\"\n",
    "    else:\n",
    "        return \"fp\"\n",
    "\n",
    "def annika_get_cutoff_for_fdr_nsp7nsp8(input_df, fdr = 0.01):\n",
    "    input_df[\"TP/FP\"] = input_df.apply(lambda row: annika_get_tp_fp_nsp7nsp8(row), axis = 1)\n",
    "    scores = input_df[\"Best CSM Score\"].to_list()\n",
    "    f_score = 0\n",
    "    for score in sorted(scores):\n",
    "        df = input_df[input_df[\"Best CSM Score\"] > score]\n",
    "        if df[df[\"TP/FP\"] == \"fp\"].shape[0] / df.shape[0] < fdr:\n",
    "            f_score = score\n",
    "            break\n",
    "    return [input_df.shape[0], input_df[input_df[\"TP/FP\"] == \"fp\"].shape[0], f_score, input_df[input_df[\"Best CSM Score\"] > f_score].shape[0]]\n",
    "\n",
    "def annika_get_cutoff_for_fdr_nsp8(input_df, fdr = 0.01):\n",
    "    input_df[\"TP/FP\"] = input_df.apply(lambda row: annika_get_tp_fp_nsp8(row), axis = 1)\n",
    "    scores = input_df[\"Best CSM Score\"].to_list()\n",
    "    f_score = 0\n",
    "    for score in sorted(scores):\n",
    "        df = input_df[input_df[\"Best CSM Score\"] > score]\n",
    "        if df[df[\"TP/FP\"] == \"fp\"].shape[0] / df.shape[0] < fdr:\n",
    "            f_score = score\n",
    "            break\n",
    "    return [input_df.shape[0], input_df[input_df[\"TP/FP\"] == \"fp\"].shape[0], f_score, input_df[input_df[\"Best CSM Score\"] > f_score].shape[0]]\n",
    "\n",
    "print(\"Annika: \", annika_get_cutoff_for_fdr_nsp7nsp8(df_1_a), \"; MaXLinker: \", maxlinker_get_cutoff_for_fdr_nsp7nsp8(df_1_m), \"; XlinkX: \", xlinkx_get_cutoff_for_fdr_nsp7nsp8(df_1_x))\n",
    "print(\"Annika: \", annika_get_cutoff_for_fdr_nsp7nsp8(df_2_a), \"; MaXLinker: \", maxlinker_get_cutoff_for_fdr_nsp7nsp8(df_2_m), \"; XlinkX: \", xlinkx_get_cutoff_for_fdr_nsp7nsp8(df_2_x))\n",
    "print(\"Annika: \", annika_get_cutoff_for_fdr_nsp7nsp8(df_3_a), \"; MaXLinker: \", maxlinker_get_cutoff_for_fdr_nsp7nsp8(df_3_m), \"; XlinkX: \", xlinkx_get_cutoff_for_fdr_nsp7nsp8(df_3_x))\n",
    "print(\"Annika: \", annika_get_cutoff_for_fdr_nsp7nsp8(df_4_a), \"; MaXLinker: \", maxlinker_get_cutoff_for_fdr_nsp7nsp8(df_4_m), \"; XlinkX: \", xlinkx_get_cutoff_for_fdr_nsp7nsp8(df_4_x))\n",
    "print(\"Annika: \", annika_get_cutoff_for_fdr_nsp7nsp8(df_5_a), \"; MaXLinker: \", maxlinker_get_cutoff_for_fdr_nsp7nsp8(df_5_m), \"; XlinkX: \", xlinkx_get_cutoff_for_fdr_nsp7nsp8(df_5_x))\n",
    "print(\"Annika: \", annika_get_cutoff_for_fdr_nsp7nsp8(df_6_a), \"; MaXLinker: \", maxlinker_get_cutoff_for_fdr_nsp7nsp8(df_6_m), \"; XlinkX: \", xlinkx_get_cutoff_for_fdr_nsp7nsp8(df_6_x))\n",
    "print(\"Annika: \", annika_get_cutoff_for_fdr_nsp8(df_7_a), \"; MaXLinker: \", maxlinker_get_cutoff_for_fdr_nsp8(df_7_m), \"; XlinkX: \", xlinkx_get_cutoff_for_fdr_nsp8(df_7_x))\n",
    "print(\"Annika: \", annika_get_cutoff_for_fdr_nsp8(df_8_a), \"; MaXLinker: \", maxlinker_get_cutoff_for_fdr_nsp8(df_8_m), \"; XlinkX: \", xlinkx_get_cutoff_for_fdr_nsp8(df_8_x))\n",
    "print(\"Annika: \", annika_get_cutoff_for_fdr_nsp8(df_9_a), \"; MaXLinker: \", maxlinker_get_cutoff_for_fdr_nsp8(df_9_m), \"; XlinkX: \", xlinkx_get_cutoff_for_fdr_nsp8(df_9_x))"
   ]
  },
  {
   "cell_type": "markdown",
   "id": "0ba4a2cd-df41-44ac-a9de-b9e352554bd5",
   "metadata": {},
   "source": [
    "| Sample | Annika | MaXLinker | XlinkX |\n",
    "| -------|--------|-----------|--------|\n",
    "| 1to1-1 | 13 | 9 | 14 | \n",
    "| 1to1-2 | 14 | 12 | 17 | \n",
    "| 1to1-3 | 14 | 9 | 18 | \n",
    "| 1to2-1 | 25 | 13 | 22 | \n",
    "| 1to2-2 | 10 | 15 | 24 | \n",
    "| 1tp2-3 | 25 | 13 | 20 | \n",
    "| nsp8-1 | 10 | 8 | 14 | \n",
    "| nsp8-2 | 17 | 10 | 15 | \n",
    "| nsp8-3 | 14 | 10 | 13 | "
   ]
  },
  {
   "cell_type": "code",
   "execution_count": 2,
   "id": "45b09910-8716-4ba0-a2d8-d90f65c36a80",
   "metadata": {},
   "outputs": [
    {
     "name": "stdout",
     "output_type": "stream",
     "text": [
      "21\n"
     ]
    },
    {
     "data": {
      "text/plain": [
       "{'AKVTSAMQTMLFTMLR2-ANSAVKLQ6',\n",
       " 'AKVTSAMQTMLFTMLR2-KLDNDALNNIINNAR1',\n",
       " 'AKVTSAMQTMLFTMLR2-MADQAMTQMYKQAR11',\n",
       " 'AKVTSAMQTMLFTMLR2-SEDKR4',\n",
       " 'ANSAVKLQ6-DGCVPLNIIPLTTAAKLMVVIPDYNTYK16',\n",
       " 'ANSAVKLQ6-KLDNDALNNIINNAR1',\n",
       " 'ANSAVKLQ6-MADQAMTQMYKQAR11',\n",
       " 'ANSAVKLQ6-VESSSKLWAQCVQLHNDILLAK6',\n",
       " 'DGCVPLNIIPLTTAAKLMVVIPDYNTYK16-KLDNDALNNIINNAR1',\n",
       " 'DGCVPLNIIPLTTAAKLMVVIPDYNTYK16-SEDKR4',\n",
       " 'KLDNDALNNIINNAR1-KLDNDALNNIINNAR1',\n",
       " 'KLDNDALNNIINNAR1-MADQAMTQMYKQAR11',\n",
       " 'KLDNDALNNIINNAR1-SEDKR4',\n",
       " 'KLDNDALNNIINNAR1-SKMSDVK1',\n",
       " 'KLDNDALNNIINNAR1-SKMSDVK2',\n",
       " 'KSLNVAK1-SEDKR4',\n",
       " 'LWAQCVQLHNDILLAKDTTEAFEK16-SEDKR4',\n",
       " 'MADQAMTQMYKQAR11-SEDKR4',\n",
       " 'SEDKR4-SKMSDVK1',\n",
       " 'SEDKR4-SLNVAKSEFDRDAAMQR6',\n",
       " 'SEDKR4-VESSSKLWAQCVQLHNDILLAK6'}"
      ]
     },
     "execution_count": 2,
     "metadata": {},
     "output_type": "execute_result"
    }
   ],
   "source": [
    "annika_links_1to1 = set()\n",
    "\n",
    "for i, row in df_1_a.iterrows():\n",
    "    if row[\"TP/FP\"] == \"tp\":\n",
    "        crosslink = \"-\".join(sorted([str(clean_sequence(row[\"Sequence A\"])) + str(row[\"Position A\"]), str(clean_sequence(row[\"Sequence B\"])) + str(row[\"Position B\"])]))\n",
    "        if crosslink not in annika_links_1to1:\n",
    "            annika_links_1to1.add(crosslink)\n",
    "            \n",
    "for i, row in df_2_a.iterrows():\n",
    "    if row[\"TP/FP\"] == \"tp\":\n",
    "        crosslink = \"-\".join(sorted([str(clean_sequence(row[\"Sequence A\"])) + str(row[\"Position A\"]), str(clean_sequence(row[\"Sequence B\"])) + str(row[\"Position B\"])]))\n",
    "        if crosslink not in annika_links_1to1:\n",
    "            annika_links_1to1.add(crosslink)\n",
    "            \n",
    "for i, row in df_3_a.iterrows():\n",
    "    if row[\"TP/FP\"] == \"tp\":\n",
    "        crosslink = \"-\".join(sorted([str(clean_sequence(row[\"Sequence A\"])) + str(row[\"Position A\"]), str(clean_sequence(row[\"Sequence B\"])) + str(row[\"Position B\"])]))\n",
    "        if crosslink not in annika_links_1to1:\n",
    "            annika_links_1to1.add(crosslink)\n",
    "            \n",
    "print(len(annika_links_1to1))\n",
    "annika_links_1to1"
   ]
  },
  {
   "cell_type": "code",
   "execution_count": 3,
   "id": "11fe23b0-91a8-4860-bc3e-580f282261e7",
   "metadata": {},
   "outputs": [
    {
     "name": "stdout",
     "output_type": "stream",
     "text": [
      "29\n"
     ]
    },
    {
     "data": {
      "text/plain": [
       "{'AKVTSAMQTMLFTMLR2-ANSAVKLQ6',\n",
       " 'AKVTSAMQTMLFTMLR2-DGCVPLNIIPLTTAAKLMVVIPDYNTYK16',\n",
       " 'AKVTSAMQTMLFTMLR2-KLDNDALNNIINNAR1',\n",
       " 'AKVTSAMQTMLFTMLR2-KSLNVAK1',\n",
       " 'AKVTSAMQTMLFTMLR2-MADQAMTQMYKQAR11',\n",
       " 'AKVTSAMQTMLFTMLR2-SEDKR4',\n",
       " 'ANSAVKLQ6-DGCVPLNIIPLTTAAKLMVVIPDYNTYK16',\n",
       " 'ANSAVKLQ6-KLDNDALNNIINNAR1',\n",
       " 'ANSAVKLQ6-LWAQCVQLHNDILLAKDTTEAFEK16',\n",
       " 'ANSAVKLQ6-SLNVAKSEFDRDAAMQR6',\n",
       " 'ANSAVKLQ6-VESSSKLWAQCVQLHNDILLAK6',\n",
       " 'DGCVPLNIIPLTTAAKLMVVIPDYNTYK16-KLDNDALNNIINNAR1',\n",
       " 'DGCVPLNIIPLTTAAKLMVVIPDYNTYK16-SEDKR4',\n",
       " 'KLDNDALNNIINNAR1-KLDNDALNNIINNAR1',\n",
       " 'KLDNDALNNIINNAR1-KSLNVAK1',\n",
       " 'KLDNDALNNIINNAR1-MADQAMTQMYKQAR11',\n",
       " 'KLDNDALNNIINNAR1-MSDVKCTSVVLLSVLQQLR5',\n",
       " 'KLDNDALNNIINNAR1-SEDKR4',\n",
       " 'KLDNDALNNIINNAR1-SKMSDVK1',\n",
       " 'KLDNDALNNIINNAR1-SKMSDVK2',\n",
       " 'KLEKMADQAMTQMYK4-SEDKR4',\n",
       " 'KSLNVAK1-SEDKR4',\n",
       " 'LWAQCVQLHNDILLAKDTTEAFEK16-SEDKR4',\n",
       " 'MADQAMTQMYKQAR11-SEDKR4',\n",
       " 'MVSLLSVLLSMQGAVDINKLCEEMLDNR19-SEDKR4',\n",
       " 'SEDKR4-SKMSDVK1',\n",
       " 'SEDKR4-SKMSDVK2',\n",
       " 'SEDKR4-SLNVAKSEFDRDAAMQR6',\n",
       " 'SEDKR4-VESSSKLWAQCVQLHNDILLAK6'}"
      ]
     },
     "execution_count": 3,
     "metadata": {},
     "output_type": "execute_result"
    }
   ],
   "source": [
    "annika_links_1to2 = set()\n",
    "\n",
    "for i, row in df_4_a.iterrows():\n",
    "    if row[\"TP/FP\"] == \"tp\":\n",
    "        crosslink = \"-\".join(sorted([str(clean_sequence(row[\"Sequence A\"])) + str(row[\"Position A\"]), str(clean_sequence(row[\"Sequence B\"])) + str(row[\"Position B\"])]))\n",
    "        if crosslink not in annika_links_1to2:\n",
    "            annika_links_1to2.add(crosslink)\n",
    "            \n",
    "for i, row in df_5_a.iterrows():\n",
    "    if row[\"TP/FP\"] == \"tp\":\n",
    "        crosslink = \"-\".join(sorted([str(clean_sequence(row[\"Sequence A\"])) + str(row[\"Position A\"]), str(clean_sequence(row[\"Sequence B\"])) + str(row[\"Position B\"])]))\n",
    "        if crosslink not in annika_links_1to2:\n",
    "            annika_links_1to2.add(crosslink)\n",
    "            \n",
    "for i, row in df_6_a.iterrows():\n",
    "    if row[\"TP/FP\"] == \"tp\":\n",
    "        crosslink = \"-\".join(sorted([str(clean_sequence(row[\"Sequence A\"])) + str(row[\"Position A\"]), str(clean_sequence(row[\"Sequence B\"])) + str(row[\"Position B\"])]))\n",
    "        if crosslink not in annika_links_1to2:\n",
    "            annika_links_1to2.add(crosslink)\n",
    "            \n",
    "print(len(annika_links_1to2))\n",
    "annika_links_1to2"
   ]
  },
  {
   "cell_type": "code",
   "execution_count": 4,
   "id": "26be6b9f-2267-4503-8b6d-ec78d5cbf30d",
   "metadata": {},
   "outputs": [
    {
     "name": "stdout",
     "output_type": "stream",
     "text": [
      "22\n"
     ]
    },
    {
     "data": {
      "text/plain": [
       "{'AKVTSAMQTMLFTMLR2-ANSAVKLQ6',\n",
       " 'AKVTSAMQTMLFTMLR2-KLDNDALNNIINNAR1',\n",
       " 'AKVTSAMQTMLFTMLR2-MADQAMTQMYKQAR11',\n",
       " 'AKVTSAMQTMLFTMLR2-SEDKR4',\n",
       " 'ANSAVKLQ6-DGCVPLNIIPLTTAAKLMVVIPDYNTYK16',\n",
       " 'ANSAVKLQ6-KLDNDALNNIINNAR1',\n",
       " 'ANSAVKLQ6-KLEKMADQAMTQMYK1',\n",
       " 'ANSAVKLQ6-KLEKMADQAMTQMYK4',\n",
       " 'ANSAVKLQ6-SLNVAKSEFDRDAAMQR6',\n",
       " 'DGCVPLNIIPLTTAAKLMVVIPDYNTYK16-KLDNDALNNIINNAR1',\n",
       " 'DGCVPLNIIPLTTAAKLMVVIPDYNTYK16-SEDKR4',\n",
       " 'KLDNDALNNIINNAR1-KLDNDALNNIINNAR1',\n",
       " 'KLDNDALNNIINNAR1-KLEKMADQAMTQMYK4',\n",
       " 'KLDNDALNNIINNAR1-KSLNVAK1',\n",
       " 'KLDNDALNNIINNAR1-MADQAMTQMYKQAR11',\n",
       " 'KLDNDALNNIINNAR1-SEDKR4',\n",
       " 'KLDNDALNNIINNAR1-SLNVAKSEFDRDAAMQR6',\n",
       " 'KLEKMADQAMTQMYK1-SEDKR4',\n",
       " 'KLEKMADQAMTQMYK4-SEDKR4',\n",
       " 'KSLNVAK1-SEDKR4',\n",
       " 'MADQAMTQMYKQAR11-SEDKR4',\n",
       " 'SEDKR4-SLNVAKSEFDRDAAMQR6'}"
      ]
     },
     "execution_count": 4,
     "metadata": {},
     "output_type": "execute_result"
    }
   ],
   "source": [
    "annika_links_nsp8 = set()\n",
    "\n",
    "for i, row in df_7_a.iterrows():\n",
    "    if row[\"TP/FP\"] == \"tp\":\n",
    "        crosslink = \"-\".join(sorted([str(clean_sequence(row[\"Sequence A\"])) + str(row[\"Position A\"]), str(clean_sequence(row[\"Sequence B\"])) + str(row[\"Position B\"])]))\n",
    "        if crosslink not in annika_links_nsp8:\n",
    "            annika_links_nsp8.add(crosslink)\n",
    "            \n",
    "for i, row in df_8_a.iterrows():\n",
    "    if row[\"TP/FP\"] == \"tp\":\n",
    "        crosslink = \"-\".join(sorted([str(clean_sequence(row[\"Sequence A\"])) + str(row[\"Position A\"]), str(clean_sequence(row[\"Sequence B\"])) + str(row[\"Position B\"])]))\n",
    "        if crosslink not in annika_links_nsp8:\n",
    "            annika_links_nsp8.add(crosslink)\n",
    "            \n",
    "for i, row in df_9_a.iterrows():\n",
    "    if row[\"TP/FP\"] == \"tp\":\n",
    "        crosslink = \"-\".join(sorted([str(clean_sequence(row[\"Sequence A\"])) + str(row[\"Position A\"]), str(clean_sequence(row[\"Sequence B\"])) + str(row[\"Position B\"])]))\n",
    "        if crosslink not in annika_links_nsp8:\n",
    "            annika_links_nsp8.add(crosslink)\n",
    "            \n",
    "print(len(annika_links_nsp8))\n",
    "annika_links_nsp8"
   ]
  },
  {
   "cell_type": "code",
   "execution_count": 5,
   "id": "c07db31e-cf27-4136-b82c-b32d569febe3",
   "metadata": {},
   "outputs": [
    {
     "name": "stdout",
     "output_type": "stream",
     "text": [
      "22\n"
     ]
    },
    {
     "data": {
      "text/plain": [
       "{'AKVTSAMQTMLFTMLR2-ANSAVKLQ6',\n",
       " 'AKVTSAMQTMLFTMLR2-KLDNDALNNIINNAR1',\n",
       " 'AKVTSAMQTMLFTMLR2-MADQAMTQMYKQAR11',\n",
       " 'AKVTSAMQTMLFTMLR2-SEDKR4',\n",
       " 'ANSAVKLQ6-DGCVPLNIIPLTTAAKLMVVIPDYNTYK16',\n",
       " 'ANSAVKLQ6-KLDNDALNNIINNAR1',\n",
       " 'ANSAVKLQ6-LMVVIPDYNTYKNTCDGTTFTYASALWEIQQVVDADSK12',\n",
       " 'ANSAVKLQ6-LWAQCVQLHNDILLAKDTTEAFEK16',\n",
       " 'ANSAVKLQ6-SEDKR4',\n",
       " 'ANSAVKLQ6-SLNVAKSEFDRDAAMQR6',\n",
       " 'ANSAVKLQ6-VESSSKLWAQCVQLHNDILLAK6',\n",
       " 'DGCVPLNIIPLTTAAKLMVVIPDYNTYK16-KLDNDALNNIINNAR1',\n",
       " 'DGCVPLNIIPLTTAAKLMVVIPDYNTYK16-SEDKR4',\n",
       " 'KLDNDALNNIINNAR1-MADQAMTQMYKQAR11',\n",
       " 'KLDNDALNNIINNAR1-SEDKR4',\n",
       " 'KLDNDALNNIINNAR1-SKMSDVK2',\n",
       " 'KLDNDALNNIINNAR1-SKMSDVKNone',\n",
       " 'KLDNDALNNIINNAR1-SLNVAKSEFDRDAAMQR6',\n",
       " 'KSLNVAK1-SEDKR4',\n",
       " 'LWAQCVQLHNDILLAKDTTEAFEK16-SEDKR4',\n",
       " 'MADQAMTQMYKQAR11-SEDKR4',\n",
       " 'SEDKR4-VESSSKLWAQCVQLHNDILLAK6'}"
      ]
     },
     "execution_count": 5,
     "metadata": {},
     "output_type": "execute_result"
    }
   ],
   "source": [
    "def get_xl_position(sequence):\n",
    "    i = 1\n",
    "    for AA in sequence:\n",
    "        if AA == \"[\":\n",
    "            return i\n",
    "        else:\n",
    "            i += 1\n",
    "            \n",
    "xlinkx_links_1to1 = set()\n",
    "\n",
    "for i, row in df_1_x.iterrows():\n",
    "    if row[\"TP/FP\"] == \"tp\":\n",
    "        crosslink = \"-\".join(sorted([str(clean_sequence(row[\"Sequence A\"])) + str(get_xl_position(row[\"Sequence A\"])), str(clean_sequence(row[\"Sequence B\"])) + str(get_xl_position(row[\"Sequence B\"]))]))\n",
    "        if crosslink not in xlinkx_links_1to1:\n",
    "            xlinkx_links_1to1.add(crosslink)\n",
    "\n",
    "for i, row in df_2_x.iterrows():\n",
    "    if row[\"TP/FP\"] == \"tp\":\n",
    "        crosslink = \"-\".join(sorted([str(clean_sequence(row[\"Sequence A\"])) + str(get_xl_position(row[\"Sequence A\"])), str(clean_sequence(row[\"Sequence B\"])) + str(get_xl_position(row[\"Sequence B\"]))]))\n",
    "        if crosslink not in xlinkx_links_1to1:\n",
    "            xlinkx_links_1to1.add(crosslink)\n",
    "            \n",
    "for i, row in df_3_x.iterrows():\n",
    "    if row[\"TP/FP\"] == \"tp\":\n",
    "        crosslink = \"-\".join(sorted([str(clean_sequence(row[\"Sequence A\"])) + str(get_xl_position(row[\"Sequence A\"])), str(clean_sequence(row[\"Sequence B\"])) + str(get_xl_position(row[\"Sequence B\"]))]))\n",
    "        if crosslink not in xlinkx_links_1to1:\n",
    "            xlinkx_links_1to1.add(crosslink)\n",
    "\n",
    "            \n",
    "print(len(xlinkx_links_1to1))\n",
    "xlinkx_links_1to1"
   ]
  },
  {
   "cell_type": "code",
   "execution_count": 6,
   "id": "2c95741b-387a-4c8d-85ea-57474759cc92",
   "metadata": {},
   "outputs": [
    {
     "name": "stdout",
     "output_type": "stream",
     "text": [
      "29\n"
     ]
    },
    {
     "data": {
      "text/plain": [
       "{'AKVTSAMQTMLFTMLR2-ANSAVKLQ6',\n",
       " 'AKVTSAMQTMLFTMLR2-KLDNDALNNIINNAR1',\n",
       " 'AKVTSAMQTMLFTMLR2-MADQAMTQMYKQAR11',\n",
       " 'AKVTSAMQTMLFTMLR2-SEDKR4',\n",
       " 'ANSAVKLQ6-DGCVPLNIIPLTTAAKLMVVIPDYNTYK16',\n",
       " 'ANSAVKLQ6-KLDNDALNNIINNAR1',\n",
       " 'ANSAVKLQ6-KLEKMADQAMTQMYK1',\n",
       " 'ANSAVKLQ6-LMVVIPDYNTYKNTCDGTTFTYASALWEIQQVVDADSK12',\n",
       " 'ANSAVKLQ6-LWAQCVQLHNDILLAKDTTEAFEK16',\n",
       " 'ANSAVKLQ6-SEDKR4',\n",
       " 'ANSAVKLQ6-SLNVAKSEFDRDAAMQR6',\n",
       " 'ANSAVKLQ6-VESSSKLWAQCVQLHNDILLAK6',\n",
       " 'DGCVPLNIIPLTTAAKLMVVIPDYNTYK16-KLDNDALNNIINNAR1',\n",
       " 'DGCVPLNIIPLTTAAKLMVVIPDYNTYK16-KLEKMADQAMTQMYK1',\n",
       " 'DGCVPLNIIPLTTAAKLMVVIPDYNTYK16-SEDKR4',\n",
       " 'KLDNDALNNIINNAR1-MADQAMTQMYKQAR11',\n",
       " 'KLDNDALNNIINNAR1-MSDVKCTSVVLLSVLQQLR5',\n",
       " 'KLDNDALNNIINNAR1-MVSLLSVLLSMQGAVDINKLCEEMLDNR19',\n",
       " 'KLDNDALNNIINNAR1-SEDKR4',\n",
       " 'KLDNDALNNIINNAR1-SKMSDVK2',\n",
       " 'KLDNDALNNIINNAR1-SKMSDVKNone',\n",
       " 'KLEKMADQAMTQMYK1-SEDKR4',\n",
       " 'KSLNVAK1-SEDKR4',\n",
       " 'LWAQCVQLHNDILLAKDTTEAFEK16-SEDKR4',\n",
       " 'MADQAMTQMYKQAR11-SEDKR4',\n",
       " 'SEDKR4-SKMSDVK1',\n",
       " 'SEDKR4-SKMSDVK2',\n",
       " 'SEDKR4-SLNVAKSEFDRDAAMQR6',\n",
       " 'SEDKR4-VESSSKLWAQCVQLHNDILLAK6'}"
      ]
     },
     "execution_count": 6,
     "metadata": {},
     "output_type": "execute_result"
    }
   ],
   "source": [
    "def get_xl_position(sequence):\n",
    "    i = 1\n",
    "    for AA in sequence:\n",
    "        if AA == \"[\":\n",
    "            return i\n",
    "        else:\n",
    "            i += 1\n",
    "            \n",
    "xlinkx_links_1to2 = set()\n",
    "\n",
    "for i, row in df_4_x.iterrows():\n",
    "    if row[\"TP/FP\"] == \"tp\":\n",
    "        crosslink = \"-\".join(sorted([str(clean_sequence(row[\"Sequence A\"])) + str(get_xl_position(row[\"Sequence A\"])), str(clean_sequence(row[\"Sequence B\"])) + str(get_xl_position(row[\"Sequence B\"]))]))\n",
    "        if crosslink not in xlinkx_links_1to2:\n",
    "            xlinkx_links_1to2.add(crosslink)\n",
    "\n",
    "for i, row in df_5_x.iterrows():\n",
    "    if row[\"TP/FP\"] == \"tp\":\n",
    "        crosslink = \"-\".join(sorted([str(clean_sequence(row[\"Sequence A\"])) + str(get_xl_position(row[\"Sequence A\"])), str(clean_sequence(row[\"Sequence B\"])) + str(get_xl_position(row[\"Sequence B\"]))]))\n",
    "        if crosslink not in xlinkx_links_1to2:\n",
    "            xlinkx_links_1to2.add(crosslink)\n",
    "            \n",
    "for i, row in df_6_x.iterrows():\n",
    "    if row[\"TP/FP\"] == \"tp\":\n",
    "        crosslink = \"-\".join(sorted([str(clean_sequence(row[\"Sequence A\"])) + str(get_xl_position(row[\"Sequence A\"])), str(clean_sequence(row[\"Sequence B\"])) + str(get_xl_position(row[\"Sequence B\"]))]))\n",
    "        if crosslink not in xlinkx_links_1to2:\n",
    "            xlinkx_links_1to2.add(crosslink)\n",
    "\n",
    "            \n",
    "print(len(xlinkx_links_1to2))\n",
    "xlinkx_links_1to2"
   ]
  },
  {
   "cell_type": "code",
   "execution_count": 7,
   "id": "6f70b27a-1f5b-4dc6-83b6-874ac049afdb",
   "metadata": {},
   "outputs": [
    {
     "name": "stdout",
     "output_type": "stream",
     "text": [
      "19\n"
     ]
    },
    {
     "data": {
      "text/plain": [
       "{'AKVTSAMQTMLFTMLR2-ANSAVKLQ6',\n",
       " 'AKVTSAMQTMLFTMLR2-KLDNDALNNIINNAR1',\n",
       " 'AKVTSAMQTMLFTMLR2-MADQAMTQMYKQAR11',\n",
       " 'AKVTSAMQTMLFTMLR2-SEDKR4',\n",
       " 'ANSAVKLQ6-DGCVPLNIIPLTTAAKLMVVIPDYNTYK16',\n",
       " 'ANSAVKLQ6-KLDNDALNNIINNAR1',\n",
       " 'ANSAVKLQ6-KLEKMADQAMTQMYK1',\n",
       " 'ANSAVKLQ6-SEDKR4',\n",
       " 'ANSAVKLQ6-SLNVAKSEFDRDAAMQR6',\n",
       " 'DGCVPLNIIPLTTAAKLMVVIPDYNTYK16-KLDNDALNNIINNAR1',\n",
       " 'DGCVPLNIIPLTTAAKLMVVIPDYNTYK16-SEDKR4',\n",
       " 'KLDNDALNNIINNAR1-KLEKMADQAMTQMYK4',\n",
       " 'KLDNDALNNIINNAR1-MADQAMTQMYKQAR11',\n",
       " 'KLDNDALNNIINNAR1-SLNVAKSEFDRDAAMQR6',\n",
       " 'KLEKMADQAMTQMYK1-SEDKR4',\n",
       " 'KLEKMADQAMTQMYK4-SEDKR4',\n",
       " 'KSLNVAK1-SEDKR4',\n",
       " 'MADQAMTQMYKQAR11-SEDKR4',\n",
       " 'SEDKR4-SLNVAKSEFDRDAAMQR6'}"
      ]
     },
     "execution_count": 7,
     "metadata": {},
     "output_type": "execute_result"
    }
   ],
   "source": [
    "def get_xl_position(sequence):\n",
    "    i = 1\n",
    "    for AA in sequence:\n",
    "        if AA == \"[\":\n",
    "            return i\n",
    "        else:\n",
    "            i += 1\n",
    "            \n",
    "xlinkx_links_nsp8 = set()\n",
    "\n",
    "for i, row in df_7_x.iterrows():\n",
    "    if row[\"TP/FP\"] == \"tp\":\n",
    "        crosslink = \"-\".join(sorted([str(clean_sequence(row[\"Sequence A\"])) + str(get_xl_position(row[\"Sequence A\"])), str(clean_sequence(row[\"Sequence B\"])) + str(get_xl_position(row[\"Sequence B\"]))]))\n",
    "        if crosslink not in xlinkx_links_nsp8:\n",
    "            xlinkx_links_nsp8.add(crosslink)\n",
    "\n",
    "for i, row in df_8_x.iterrows():\n",
    "    if row[\"TP/FP\"] == \"tp\":\n",
    "        crosslink = \"-\".join(sorted([str(clean_sequence(row[\"Sequence A\"])) + str(get_xl_position(row[\"Sequence A\"])), str(clean_sequence(row[\"Sequence B\"])) + str(get_xl_position(row[\"Sequence B\"]))]))\n",
    "        if crosslink not in xlinkx_links_nsp8:\n",
    "            xlinkx_links_nsp8.add(crosslink)\n",
    "            \n",
    "for i, row in df_9_x.iterrows():\n",
    "    if row[\"TP/FP\"] == \"tp\":\n",
    "        crosslink = \"-\".join(sorted([str(clean_sequence(row[\"Sequence A\"])) + str(get_xl_position(row[\"Sequence A\"])), str(clean_sequence(row[\"Sequence B\"])) + str(get_xl_position(row[\"Sequence B\"]))]))\n",
    "        if crosslink not in xlinkx_links_nsp8:\n",
    "            xlinkx_links_nsp8.add(crosslink)\n",
    "\n",
    "            \n",
    "print(len(xlinkx_links_nsp8))\n",
    "xlinkx_links_nsp8"
   ]
  },
  {
   "cell_type": "code",
   "execution_count": 8,
   "id": "a75258a0-ccca-4d21-9896-6fadeb60e4dd",
   "metadata": {},
   "outputs": [
    {
     "name": "stdout",
     "output_type": "stream",
     "text": [
      "15\n"
     ]
    },
    {
     "data": {
      "text/plain": [
       "{'AKVTSAMQTMLFTMLR2-KLDNDALNNIINNAR1',\n",
       " 'AKVTSAMQTMLFTMLR2-MADQAMTQMYKQAR11',\n",
       " 'ANSAVKLQ6-KLDNDALNNIINNAR1',\n",
       " 'DGCVPLNIIPLTTAAKLMVVIPDYNTYK16-KLDNDALNNIINNAR1',\n",
       " 'KLDNDALNNIINNAR1-KSLNVAK1',\n",
       " 'KLDNDALNNIINNAR1-MADQAMTQMYKQAR11',\n",
       " 'KLDNDALNNIINNAR1-MVSLLSVLLSMQGAVDINKLCEEMLDNR19',\n",
       " 'KLDNDALNNIINNAR1-SKMSDVK2',\n",
       " 'KLDNDALNNIINNAR1-SLNVAKSEFDRDAAMQR6',\n",
       " 'KSLNVAK1-KSLNVAK1',\n",
       " 'KSLNVAK1-SEDKR4',\n",
       " 'MADQAMTQMYKQAR11-SEDKR4',\n",
       " 'SEDKR4-SKMSDVK2',\n",
       " 'SEDKR4-SLNVAKSEFDRDAAMQR6',\n",
       " 'SEDKR4-VESSSKLWAQCVQLHNDILLAK6'}"
      ]
     },
     "execution_count": 8,
     "metadata": {},
     "output_type": "execute_result"
    }
   ],
   "source": [
    "def get_xl_position(sequence):\n",
    "    i = 1\n",
    "    for AA in sequence:\n",
    "        if AA == \"k\":\n",
    "            return i\n",
    "        else:\n",
    "            i += 1\n",
    "            \n",
    "maxlinker_links_1to1 = set()\n",
    "\n",
    "for i, row in df_1_m.iterrows():\n",
    "    if row[\"TP/FP\"] == \"tp\":\n",
    "        crosslink = \"-\".join(sorted([str(clean_sequence(row[\"Peptide A\"])) + str(get_xl_position(row[\"Peptide A\"])), str(clean_sequence(row[\"Peptide_B\"])) + str(get_xl_position(row[\"Peptide_B\"]))]))\n",
    "        if crosslink not in maxlinker_links_1to1:\n",
    "            maxlinker_links_1to1.add(crosslink)\n",
    "\n",
    "for i, row in df_2_m.iterrows():\n",
    "    if row[\"TP/FP\"] == \"tp\":\n",
    "        crosslink = \"-\".join(sorted([str(clean_sequence(row[\"Peptide A\"])) + str(get_xl_position(row[\"Peptide A\"])), str(clean_sequence(row[\"Peptide_B\"])) + str(get_xl_position(row[\"Peptide_B\"]))]))\n",
    "        if crosslink not in maxlinker_links_1to1:\n",
    "            maxlinker_links_1to1.add(crosslink)\n",
    "            \n",
    "for i, row in df_3_m.iterrows():\n",
    "    if row[\"TP/FP\"] == \"tp\":\n",
    "        crosslink = \"-\".join(sorted([str(clean_sequence(row[\"Peptide A\"])) + str(get_xl_position(row[\"Peptide A\"])), str(clean_sequence(row[\"Peptide_B\"])) + str(get_xl_position(row[\"Peptide_B\"]))]))\n",
    "        if crosslink not in maxlinker_links_1to1:\n",
    "            maxlinker_links_1to1.add(crosslink)\n",
    "\n",
    "            \n",
    "print(len(maxlinker_links_1to1))\n",
    "maxlinker_links_1to1"
   ]
  },
  {
   "cell_type": "code",
   "execution_count": 9,
   "id": "f71af336-2fe5-4e7c-9c5c-68d99ca344b8",
   "metadata": {},
   "outputs": [
    {
     "name": "stdout",
     "output_type": "stream",
     "text": [
      "18\n"
     ]
    },
    {
     "data": {
      "text/plain": [
       "{'AKVTSAMQTMLFTMLR2-DGCVPLNIIPLTTAAKLMVVIPDYNTYK16',\n",
       " 'AKVTSAMQTMLFTMLR2-KLDNDALNNIINNAR1',\n",
       " 'AKVTSAMQTMLFTMLR2-MADQAMTQMYKQAR11',\n",
       " 'ANSAVKLQ6-KLDNDALNNIINNAR1',\n",
       " 'DGCVPLNIIPLTTAAKLMVVIPDYNTYK16-KLDNDALNNIINNAR1',\n",
       " 'KLDNDALNNIINNAR1-KLDNDALNNIINNAR1',\n",
       " 'KLDNDALNNIINNAR1-MADQAMTQMYKQAR11',\n",
       " 'KLDNDALNNIINNAR1-MSDVKCTSVVLLSVLQQLR5',\n",
       " 'KLDNDALNNIINNAR1-MVSLLSVLLSMQGAVDINKLCEEMLDNR19',\n",
       " 'KLDNDALNNIINNAR1-SKMSDVK2',\n",
       " 'KLDNDALNNIINNAR1-VESSSKLWAQCVQLHNDILLAK6',\n",
       " 'KSLNVAK1-SEDKR4',\n",
       " 'LWAQCVQLHNDILLAKDTTEAFEK16-SEDKR4',\n",
       " 'MADQAMTQMYKQAR11-SEDKR4',\n",
       " 'SEDKR4-SEDKR4',\n",
       " 'SEDKR4-SKMSDVK2',\n",
       " 'SEDKR4-SLNVAKSEFDRDAAMQR6',\n",
       " 'SEDKR4-VESSSKLWAQCVQLHNDILLAK6'}"
      ]
     },
     "execution_count": 9,
     "metadata": {},
     "output_type": "execute_result"
    }
   ],
   "source": [
    "def get_xl_position(sequence):\n",
    "    i = 1\n",
    "    for AA in sequence:\n",
    "        if AA == \"k\":\n",
    "            return i\n",
    "        else:\n",
    "            i += 1\n",
    "            \n",
    "maxlinker_links_1to2 = set()\n",
    "\n",
    "for i, row in df_4_m.iterrows():\n",
    "    if row[\"TP/FP\"] == \"tp\":\n",
    "        crosslink = \"-\".join(sorted([str(clean_sequence(row[\"Peptide A\"])) + str(get_xl_position(row[\"Peptide A\"])), str(clean_sequence(row[\"Peptide_B\"])) + str(get_xl_position(row[\"Peptide_B\"]))]))\n",
    "        if crosslink not in maxlinker_links_1to2:\n",
    "            maxlinker_links_1to2.add(crosslink)\n",
    "\n",
    "for i, row in df_5_m.iterrows():\n",
    "    if row[\"TP/FP\"] == \"tp\":\n",
    "        crosslink = \"-\".join(sorted([str(clean_sequence(row[\"Peptide A\"])) + str(get_xl_position(row[\"Peptide A\"])), str(clean_sequence(row[\"Peptide_B\"])) + str(get_xl_position(row[\"Peptide_B\"]))]))\n",
    "        if crosslink not in maxlinker_links_1to2:\n",
    "            maxlinker_links_1to2.add(crosslink)\n",
    "            \n",
    "for i, row in df_6_m.iterrows():\n",
    "    if row[\"TP/FP\"] == \"tp\":\n",
    "        crosslink = \"-\".join(sorted([str(clean_sequence(row[\"Peptide A\"])) + str(get_xl_position(row[\"Peptide A\"])), str(clean_sequence(row[\"Peptide_B\"])) + str(get_xl_position(row[\"Peptide_B\"]))]))\n",
    "        if crosslink not in maxlinker_links_1to2:\n",
    "            maxlinker_links_1to2.add(crosslink)\n",
    "\n",
    "            \n",
    "print(len(maxlinker_links_1to2))\n",
    "maxlinker_links_1to2"
   ]
  },
  {
   "cell_type": "code",
   "execution_count": 10,
   "id": "0244c6f0-3a75-44a8-981c-86362baa384c",
   "metadata": {},
   "outputs": [
    {
     "name": "stdout",
     "output_type": "stream",
     "text": [
      "13\n"
     ]
    },
    {
     "data": {
      "text/plain": [
       "{'AKVTSAMQTMLFTMLR2-KLDNDALNNIINNAR1',\n",
       " 'AKVTSAMQTMLFTMLR2-MADQAMTQMYKQAR11',\n",
       " 'ANSAVKLQ6-SEDKR4',\n",
       " 'DGCVPLNIIPLTTAAKLMVVIPDYNTYK16-KLDNDALNNIINNAR1',\n",
       " 'KLDNDALNNIINNAR1-KLDNDALNNIINNAR1',\n",
       " 'KLDNDALNNIINNAR1-KLEKMADQAMTQMYK4',\n",
       " 'KLDNDALNNIINNAR1-KSLNVAK1',\n",
       " 'KLDNDALNNIINNAR1-MADQAMTQMYKQAR11',\n",
       " 'KLDNDALNNIINNAR1-SLNVAKSEFDRDAAMQR6',\n",
       " 'KLEKMADQAMTQMYK4-SEDKR4',\n",
       " 'KSLNVAK1-SEDKR4',\n",
       " 'MADQAMTQMYKQAR11-SEDKR4',\n",
       " 'SEDKR4-SLNVAKSEFDRDAAMQR6'}"
      ]
     },
     "execution_count": 10,
     "metadata": {},
     "output_type": "execute_result"
    }
   ],
   "source": [
    "def get_xl_position(sequence):\n",
    "    i = 1\n",
    "    for AA in sequence:\n",
    "        if AA == \"k\":\n",
    "            return i\n",
    "        else:\n",
    "            i += 1\n",
    "            \n",
    "maxlinker_links_nsp8 = set()\n",
    "\n",
    "for i, row in df_7_m.iterrows():\n",
    "    if row[\"TP/FP\"] == \"tp\":\n",
    "        crosslink = \"-\".join(sorted([str(clean_sequence(row[\"Peptide A\"])) + str(get_xl_position(row[\"Peptide A\"])), str(clean_sequence(row[\"Peptide_B\"])) + str(get_xl_position(row[\"Peptide_B\"]))]))\n",
    "        if crosslink not in maxlinker_links_nsp8:\n",
    "            maxlinker_links_nsp8.add(crosslink)\n",
    "\n",
    "for i, row in df_8_m.iterrows():\n",
    "    if row[\"TP/FP\"] == \"tp\":\n",
    "        crosslink = \"-\".join(sorted([str(clean_sequence(row[\"Peptide A\"])) + str(get_xl_position(row[\"Peptide A\"])), str(clean_sequence(row[\"Peptide_B\"])) + str(get_xl_position(row[\"Peptide_B\"]))]))\n",
    "        if crosslink not in maxlinker_links_nsp8:\n",
    "            maxlinker_links_nsp8.add(crosslink)\n",
    "            \n",
    "for i, row in df_9_m.iterrows():\n",
    "    if row[\"TP/FP\"] == \"tp\":\n",
    "        crosslink = \"-\".join(sorted([str(clean_sequence(row[\"Peptide A\"])) + str(get_xl_position(row[\"Peptide A\"])), str(clean_sequence(row[\"Peptide_B\"])) + str(get_xl_position(row[\"Peptide_B\"]))]))\n",
    "        if crosslink not in maxlinker_links_nsp8:\n",
    "            maxlinker_links_nsp8.add(crosslink)\n",
    "\n",
    "            \n",
    "print(len(maxlinker_links_nsp8))\n",
    "maxlinker_links_nsp8"
   ]
  },
  {
   "cell_type": "code",
   "execution_count": 11,
   "id": "aa618159-1383-4f05-99fe-98474cdfcadc",
   "metadata": {},
   "outputs": [],
   "source": [
    "from matplotlib_venn import venn2, venn2_circles, venn2_unweighted\n",
    "from matplotlib_venn import venn3, venn3_circles\n",
    "from matplotlib import pyplot as plt\n",
    "%matplotlib inline"
   ]
  },
  {
   "cell_type": "code",
   "execution_count": 12,
   "id": "bf72355d-3489-4974-b505-1858ea025172",
   "metadata": {},
   "outputs": [
    {
     "data": {
      "image/png": "[encoded data removed]",
      "text/plain": [
       "<Figure size 432x288 with 1 Axes>"
      ]
     },
     "metadata": {},
     "output_type": "display_data"
    }
   ],
   "source": [
    "venn3(subsets = (len(annika_links_1to1.difference(xlinkx_links_1to1, maxlinker_links_1to1)),\n",
    "                 len(xlinkx_links_1to1.difference(annika_links_1to1, maxlinker_links_1to1)),\n",
    "                 len(annika_links_1to1.intersection(xlinkx_links_1to1).difference(maxlinker_links_1to1)),\n",
    "                 len(maxlinker_links_1to1.difference(annika_links_1to1, xlinkx_links_1to1)),\n",
    "                 len(annika_links_1to1.intersection(maxlinker_links_1to1).difference(xlinkx_links_1to1)),\n",
    "                 len(xlinkx_links_1to1.intersection(maxlinker_links_1to1).difference(annika_links_1to1)),\n",
    "                 len(annika_links_1to1.intersection(maxlinker_links_1to1).intersection(xlinkx_links_1to1))), \n",
    "      set_labels = (\"MS Annika\", \"XlinkX\", \"MaXLinker\"), alpha = 0.5);"
   ]
  },
  {
   "cell_type": "code",
   "execution_count": 13,
   "id": "79e2229f-c376-477b-bcaa-7e63d90f8fac",
   "metadata": {},
   "outputs": [
    {
     "data": {
      "image/png": "[encoded data removed]",
      "text/plain": [
       "<Figure size 432x288 with 1 Axes>"
      ]
     },
     "metadata": {},
     "output_type": "display_data"
    }
   ],
   "source": [
    "venn3(subsets = (len(annika_links_1to2.difference(xlinkx_links_1to2, maxlinker_links_1to2)),\n",
    "                 len(xlinkx_links_1to2.difference(annika_links_1to2, maxlinker_links_1to2)),\n",
    "                 len(annika_links_1to2.intersection(xlinkx_links_1to2).difference(maxlinker_links_1to2)),\n",
    "                 len(maxlinker_links_1to2.difference(annika_links_1to2, xlinkx_links_1to2)),\n",
    "                 len(annika_links_1to2.intersection(maxlinker_links_1to2).difference(xlinkx_links_1to2)),\n",
    "                 len(xlinkx_links_1to2.intersection(maxlinker_links_1to2).difference(annika_links_1to2)),\n",
    "                 len(annika_links_1to2.intersection(maxlinker_links_1to2).intersection(xlinkx_links_1to2))), \n",
    "      set_labels = (\"MS Annika\", \"XlinkX\", \"MaXLinker\"), alpha = 0.5);"
   ]
  },
  {
   "cell_type": "code",
   "execution_count": 14,
   "id": "0dd44d40-a657-4e38-a3c9-8dacc6ad8ba3",
   "metadata": {},
   "outputs": [
    {
     "data": {
      "image/png": "[encoded data removed]",
      "text/plain": [
       "<Figure size 432x288 with 1 Axes>"
      ]
     },
     "metadata": {},
     "output_type": "display_data"
    }
   ],
   "source": [
    "venn3(subsets = (len(annika_links_nsp8.difference(xlinkx_links_nsp8, maxlinker_links_nsp8)),\n",
    "                 len(xlinkx_links_nsp8.difference(annika_links_nsp8, maxlinker_links_nsp8)),\n",
    "                 len(annika_links_nsp8.intersection(xlinkx_links_nsp8).difference(maxlinker_links_nsp8)),\n",
    "                 len(maxlinker_links_nsp8.difference(annika_links_nsp8, xlinkx_links_nsp8)),\n",
    "                 len(annika_links_nsp8.intersection(maxlinker_links_nsp8).difference(xlinkx_links_nsp8)),\n",
    "                 len(xlinkx_links_nsp8.intersection(maxlinker_links_nsp8).difference(annika_links_nsp8)),\n",
    "                 len(annika_links_nsp8.intersection(maxlinker_links_nsp8).intersection(xlinkx_links_nsp8))), \n",
    "      set_labels = (\"MS Annika\", \"XlinkX\", \"MaXLinker\"), alpha = 0.5);"
   ]
  },
  {
   "cell_type": "code",
   "execution_count": null,
   "id": "cb7fd428-feda-4d10-845d-411cf8007666",
   "metadata": {},
   "outputs": [],
   "source": []
  }
 ],
 "metadata": {
  "kernelspec": {
   "display_name": "Python 3 (ipykernel)",
   "language": "python",
   "name": "python3"
  },
  "language_info": {
   "codemirror_mode": {
    "name": "ipython",
    "version": 3
   },
   "file_extension": ".py",
   "mimetype": "text/x-python",
   "name": "python",
   "nbconvert_exporter": "python",
   "pygments_lexer": "ipython3",
   "version": "3.7.3"
  }
 },
 "nbformat": 4,
 "nbformat_minor": 5
}
