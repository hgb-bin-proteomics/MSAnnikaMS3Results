{
 "cells": [
  {
   "cell_type": "code",
   "execution_count": 1,
   "id": "4b7987cd-91e6-4d42-8179-e6a276a600af",
   "metadata": {},
   "outputs": [],
   "source": [
    "import json\n",
    "import pandas as pd\n",
    "\n",
    "with open(\"paper_crosslinks_nsp8.json\", \"r\", encoding = \"utf-8\") as f:\n",
    "    paper_crosslinks_nsp8 = set(json.load(f)[\"crosslinks\"])\n",
    "    f.close()\n",
    "    \n",
    "with open(\"paper_crosslinks_all.json\", \"r\", encoding = \"utf-8\") as f:\n",
    "    paper_crosslinks_all = set(json.load(f)[\"crosslinks\"])\n",
    "    f.close()\n",
    "    \n",
    "with open(\"annika_crosslinks_nsp8.json\", \"r\", encoding = \"utf-8\") as f:\n",
    "    annika_crosslinks_nsp8 = set(json.load(f)[\"crosslinks\"])\n",
    "    f.close()\n",
    "    \n",
    "with open(\"annika_crosslinks_all.json\", \"r\", encoding = \"utf-8\") as f:\n",
    "    annika_crosslinks_all = set(json.load(f)[\"crosslinks\"])\n",
    "    f.close()"
   ]
  },
  {
   "cell_type": "code",
   "execution_count": 2,
   "id": "242f98d1-0e08-4ea6-af64-4adae9dad9f9",
   "metadata": {},
   "outputs": [
    {
     "name": "stdout",
     "output_type": "stream",
     "text": [
      "21 36 22 25\n"
     ]
    }
   ],
   "source": [
    "print(len(paper_crosslinks_nsp8), len(paper_crosslinks_all), len(annika_crosslinks_nsp8), len(annika_crosslinks_all))"
   ]
  },
  {
   "cell_type": "code",
   "execution_count": 3,
   "id": "c1b16f2a-4402-47ae-9da7-384015445753",
   "metadata": {},
   "outputs": [
    {
     "data": {
      "text/plain": [
       "{'AKVTSAMQTMLFTMLR2-ANSAVKLQ6',\n",
       " 'ANSAVKLQ6-DGCVPLNIIPLTTAAKLMVVIPDYNTYK16',\n",
       " 'ANSAVKLQ6-KLDNDALNNIINNAR1',\n",
       " 'ANSAVKLQ6-KLEKMADQAMTQMYK1',\n",
       " 'ANSAVKLQ6-KLEKMADQAMTQMYK4',\n",
       " 'ANSAVKLQ6-SLNVAKSEFDRDAAMQR6',\n",
       " 'KLDNDALNNIINNAR1-KLDNDALNNIINNAR1',\n",
       " 'KLDNDALNNIINNAR1-KSLNVAK1',\n",
       " 'KLDNDALNNIINNAR1-SEDKR4'}"
      ]
     },
     "execution_count": 3,
     "metadata": {},
     "output_type": "execute_result"
    }
   ],
   "source": [
    "annika_crosslinks_nsp8 - paper_crosslinks_nsp8 #9"
   ]
  },
  {
   "cell_type": "code",
   "execution_count": 4,
   "id": "868f007a-264c-4e98-953e-b090c0768870",
   "metadata": {},
   "outputs": [
    {
     "data": {
      "text/plain": [
       "{'AKVTSAMQTMLFTMLR2-ANSAVKLQ6',\n",
       " 'AKVTSAMQTMLFTMLR2-DGCVPLNIIPLTTAAKLMVVIPDYNTYK16',\n",
       " 'AKVTSAMQTMLFTMLR2-KSLNVAK1',\n",
       " 'ANSAVKLQ6-DGCVPLNIIPLTTAAKLMVVIPDYNTYK16',\n",
       " 'ANSAVKLQ6-KLDNDALNNIINNAR1',\n",
       " 'ANSAVKLQ6-KLEKMADQAMTQMYK1',\n",
       " 'ANSAVKLQ6-KLEKMADQAMTQMYK4',\n",
       " 'ANSAVKLQ6-MADQAMTQMYKQAR11',\n",
       " 'ANSAVKLQ6-SLNVAKSEFDRDAAMQR6',\n",
       " 'KLDNDALNNIINNAR1-KLDNDALNNIINNAR1',\n",
       " 'KLDNDALNNIINNAR1-KSLNVAK1'}"
      ]
     },
     "execution_count": 4,
     "metadata": {},
     "output_type": "execute_result"
    }
   ],
   "source": [
    "annika_crosslinks_all - paper_crosslinks_all #11"
   ]
  },
  {
   "cell_type": "code",
   "execution_count": 5,
   "id": "67a6e029-d751-418b-82d4-2d85b18f06c3",
   "metadata": {},
   "outputs": [],
   "source": [
    "from matplotlib_venn import venn2, venn2_circles, venn2_unweighted\n",
    "from matplotlib_venn import venn3, venn3_circles\n",
    "from matplotlib import pyplot as plt\n",
    "%matplotlib inline"
   ]
  },
  {
   "cell_type": "code",
   "execution_count": 6,
   "id": "981b5f51-b2c1-474b-8d33-3fc919095f1a",
   "metadata": {},
   "outputs": [
    {
     "data": {
      "text/plain": [
       "<matplotlib_venn._common.VennDiagram at 0x1fb496a1e10>"
      ]
     },
     "execution_count": 6,
     "metadata": {},
     "output_type": "execute_result"
    },
    {
     "data": {
      "image/png": "[encoded data removed]",
      "text/plain": [
       "<Figure size 432x288 with 1 Axes>"
      ]
     },
     "metadata": {},
     "output_type": "display_data"
    }
   ],
   "source": [
    "venn2(subsets = (len(annika_crosslinks_nsp8 - paper_crosslinks_nsp8), len(paper_crosslinks_nsp8 - annika_crosslinks_nsp8), len(annika_crosslinks_nsp8 & paper_crosslinks_nsp8)), \n",
    "      set_labels = (\"MS Annika\", \"Publication\"))"
   ]
  },
  {
   "cell_type": "code",
   "execution_count": 7,
   "id": "3f8b1145-feba-4966-aa51-368b83dc8f40",
   "metadata": {},
   "outputs": [
    {
     "data": {
      "text/plain": [
       "<matplotlib_venn._common.VennDiagram at 0x1fb4b7b38d0>"
      ]
     },
     "execution_count": 7,
     "metadata": {},
     "output_type": "execute_result"
    },
    {
     "data": {
      "image/png": "[encoded data removed]",
      "text/plain": [
       "<Figure size 432x288 with 1 Axes>"
      ]
     },
     "metadata": {},
     "output_type": "display_data"
    }
   ],
   "source": [
    "venn2(subsets = (len(annika_crosslinks_all - paper_crosslinks_all), len(paper_crosslinks_all - annika_crosslinks_all), len(annika_crosslinks_all & paper_crosslinks_all)), \n",
    "      set_labels = (\"MS Annika\", \"Publication\"))"
   ]
  },
  {
   "cell_type": "code",
   "execution_count": 8,
   "id": "0f4585fc-f862-4382-b501-ed2bdafb11e6",
   "metadata": {},
   "outputs": [],
   "source": [
    "def construct_sequences_from_xls(crosslink):\n",
    "    valid_AA = [\"G\", \"P\", \"A\", \"V\", \"L\", \"I\", \"M\", \"C\", \"F\", \"Y\", \"W\", \"H\", \"K\", \"R\", \"Q\", \"N\", \"E\", \"D\", \"S\", \"T\"]\n",
    "    peptides = crosslink.split(\"-\")\n",
    "    peptide_a = \"\".join([AA for AA in peptides[0] if AA in valid_AA])\n",
    "    peptide_b = \"\".join([AA for AA in peptides[1] if AA in valid_AA])\n",
    "    xl_pos_a = int(\"\".join([AA for AA in peptides[0] if AA not in valid_AA]))\n",
    "    xl_pos_b = int(\"\".join([AA for AA in peptides[1] if AA not in valid_AA]))\n",
    "    return [peptide_a[:xl_pos_a-1] + \"[\" + peptide_a[xl_pos_a-1] + \"]\" + peptide_a[xl_pos_a:],\n",
    "            peptide_b[:xl_pos_b-1] + \"[\" + peptide_b[xl_pos_b-1] + \"]\" + peptide_b[xl_pos_b:]]"
   ]
  },
  {
   "cell_type": "code",
   "execution_count": 9,
   "id": "a7dd50bd-a2bb-4022-846e-c46ea529e5b8",
   "metadata": {},
   "outputs": [],
   "source": [
    "Sequence_A = []\n",
    "Sequence_B = []\n",
    "for xl in annika_crosslinks_nsp8 - paper_crosslinks_nsp8:\n",
    "    seqs = construct_sequences_from_xls(xl)\n",
    "    Sequence_A.append(seqs[0])\n",
    "    Sequence_B.append(seqs[1])\n",
    "    \n",
    "unique_links_nsp8 = pd.DataFrame({\"Sequence A\": Sequence_A, \"Sequence B\": Sequence_B})\n",
    "unique_links_nsp8.to_excel(\"unique_links_nsp8.xlsx\")"
   ]
  },
  {
   "cell_type": "code",
   "execution_count": 10,
   "id": "459a8f25-db0d-42e6-a056-0f94a4c5e7a1",
   "metadata": {},
   "outputs": [],
   "source": [
    "Sequence_A = []\n",
    "Sequence_B = []\n",
    "for xl in annika_crosslinks_all - paper_crosslinks_all:\n",
    "    seqs = construct_sequences_from_xls(xl)\n",
    "    Sequence_A.append(seqs[0])\n",
    "    Sequence_B.append(seqs[1])\n",
    "    \n",
    "unique_links_all = pd.DataFrame({\"Sequence A\": Sequence_A, \"Sequence B\": Sequence_B})\n",
    "unique_links_all.to_excel(\"unique_links_all.xlsx\")"
   ]
  },
  {
   "cell_type": "code",
   "execution_count": null,
   "id": "3de77398-67b9-427e-9061-aa3b621ad71a",
   "metadata": {},
   "outputs": [],
   "source": []
  }
 ],
 "metadata": {
  "kernelspec": {
   "display_name": "Python 3 (ipykernel)",
   "language": "python",
   "name": "python3"
  },
  "language_info": {
   "codemirror_mode": {
    "name": "ipython",
    "version": 3
   },
   "file_extension": ".py",
   "mimetype": "text/x-python",
   "name": "python",
   "nbconvert_exporter": "python",
   "pygments_lexer": "ipython3",
   "version": "3.7.3"
  }
 },
 "nbformat": 4,
 "nbformat_minor": 5
}
