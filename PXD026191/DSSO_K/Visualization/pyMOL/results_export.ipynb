{
 "cells": [
  {
   "cell_type": "code",
   "execution_count": 1,
   "id": "0dec26ae-f766-4376-b7cf-86a49ba97851",
   "metadata": {},
   "outputs": [],
   "source": [
    "import json\n",
    "import pandas as pd\n",
    "\n",
    "df_1_a = pd.read_excel(\"../MSAnnika_results/202001216_nsp7nsp8_1to1_trypsin_XL_REP1.xlsx\")\n",
    "df_2_a = pd.read_excel(\"../MSAnnika_results/202001216_nsp7nsp8_1to1_trypsin_XL_REP2.xlsx\")\n",
    "df_3_a = pd.read_excel(\"../MSAnnika_results/202001216_nsp7nsp8_1to1_trypsin_XL_REP3.xlsx\")\n",
    "df_4_a = pd.read_excel(\"../MSAnnika_results/202001216_nsp7nsp8_1to2_trypsin_XL_REP1.xlsx\")\n",
    "df_5_a = pd.read_excel(\"../MSAnnika_results/202001216_nsp7nsp8_1to2_trypsin_XL_REP2.xlsx\")\n",
    "df_6_a = pd.read_excel(\"../MSAnnika_results/202001216_nsp7nsp8_1to2_trypsin_XL_REP3.xlsx\")\n",
    "df_7_a = pd.read_excel(\"../MSAnnika_results/202001216_nsp8_trypsin_XL_REP1.xlsx\")\n",
    "df_8_a = pd.read_excel(\"../MSAnnika_results/202001216_nsp8_trypsin_XL_REP2.xlsx\")\n",
    "df_9_a = pd.read_excel(\"../MSAnnika_results/202001216_nsp8_trypsin_XL_REP3.xlsx\")\n",
    "\n",
    "def clean_sequence(sequence):\n",
    "    return sequence.replace(\"[\", \"\").replace(\"]\", \"\").upper()\n",
    "\n",
    "def annika_get_tp_fp_nsp7nsp8(row):\n",
    "    if (\"nsp7\" in row[\"Protein Descriptions A\"].lower() or \"nsp8\" in row[\"Protein Descriptions A\"].lower()) and (\"nsp7\" in row[\"Protein Descriptions B\"].lower() or \"nsp8\" in row[\"Protein Descriptions B\"].lower()):\n",
    "        return \"tp\"\n",
    "    else:\n",
    "        return \"fp\"\n",
    "    \n",
    "def annika_get_tp_fp_nsp8(row):\n",
    "    if \"nsp8\" in row[\"Protein Descriptions A\"].lower() and \"nsp8\" in row[\"Protein Descriptions B\"].lower():\n",
    "        return \"tp\"\n",
    "    else:\n",
    "        return \"fp\"\n",
    "    \n",
    "df_1_a[\"TP/FP\"] = df_1_a.apply(lambda row: annika_get_tp_fp_nsp7nsp8(row), axis = 1)\n",
    "df_2_a[\"TP/FP\"] = df_2_a.apply(lambda row: annika_get_tp_fp_nsp7nsp8(row), axis = 1)\n",
    "df_3_a[\"TP/FP\"] = df_3_a.apply(lambda row: annika_get_tp_fp_nsp7nsp8(row), axis = 1)\n",
    "df_4_a[\"TP/FP\"] = df_4_a.apply(lambda row: annika_get_tp_fp_nsp7nsp8(row), axis = 1)\n",
    "df_5_a[\"TP/FP\"] = df_5_a.apply(lambda row: annika_get_tp_fp_nsp7nsp8(row), axis = 1)\n",
    "df_6_a[\"TP/FP\"] = df_6_a.apply(lambda row: annika_get_tp_fp_nsp7nsp8(row), axis = 1)\n",
    "df_7_a[\"TP/FP\"] = df_7_a.apply(lambda row: annika_get_tp_fp_nsp8(row), axis = 1)\n",
    "df_8_a[\"TP/FP\"] = df_8_a.apply(lambda row: annika_get_tp_fp_nsp8(row), axis = 1)\n",
    "df_9_a[\"TP/FP\"] = df_9_a.apply(lambda row: annika_get_tp_fp_nsp8(row), axis = 1)"
   ]
  },
  {
   "cell_type": "code",
   "execution_count": 2,
   "id": "45b09910-8716-4ba0-a2d8-d90f65c36a80",
   "metadata": {},
   "outputs": [
    {
     "name": "stdout",
     "output_type": "stream",
     "text": [
      "15\n"
     ]
    },
    {
     "data": {
      "text/plain": [
       "{'AKVTSAMQTMLFTMLR2-ANSAVKLQ6',\n",
       " 'AKVTSAMQTMLFTMLR2-KLDNDALNNIINNAR1',\n",
       " 'AKVTSAMQTMLFTMLR2-MADQAMTQMYKQAR11',\n",
       " 'AKVTSAMQTMLFTMLR2-SEDKR4',\n",
       " 'ANSAVKLQ6-DGCVPLNIIPLTTAAKLMVVIPDYNTYK16',\n",
       " 'ANSAVKLQ6-KLDNDALNNIINNAR1',\n",
       " 'ANSAVKLQ6-MADQAMTQMYKQAR11',\n",
       " 'DGCVPLNIIPLTTAAKLMVVIPDYNTYK16-KLDNDALNNIINNAR1',\n",
       " 'DGCVPLNIIPLTTAAKLMVVIPDYNTYK16-SEDKR4',\n",
       " 'KLDNDALNNIINNAR1-KLDNDALNNIINNAR1',\n",
       " 'KLDNDALNNIINNAR1-MADQAMTQMYKQAR11',\n",
       " 'KLDNDALNNIINNAR1-SEDKR4',\n",
       " 'KSLNVAK1-SEDKR4',\n",
       " 'MADQAMTQMYKQAR11-SEDKR4',\n",
       " 'SEDKR4-SLNVAKSEFDRDAAMQR6'}"
      ]
     },
     "execution_count": 2,
     "metadata": {},
     "output_type": "execute_result"
    }
   ],
   "source": [
    "annika_links_1to1 = set()\n",
    "\n",
    "for i, row in df_1_a.iterrows():\n",
    "    if row[\"TP/FP\"] == \"tp\":\n",
    "        if annika_get_tp_fp_nsp8(row) == \"tp\":\n",
    "            crosslink = \"-\".join(sorted([str(clean_sequence(row[\"Sequence A\"])) + str(row[\"Position A\"]), str(clean_sequence(row[\"Sequence B\"])) + str(row[\"Position B\"])]))\n",
    "            if crosslink not in annika_links_1to1:\n",
    "                annika_links_1to1.add(crosslink)\n",
    "            \n",
    "for i, row in df_2_a.iterrows():\n",
    "    if row[\"TP/FP\"] == \"tp\":\n",
    "        if annika_get_tp_fp_nsp8(row) == \"tp\":\n",
    "            crosslink = \"-\".join(sorted([str(clean_sequence(row[\"Sequence A\"])) + str(row[\"Position A\"]), str(clean_sequence(row[\"Sequence B\"])) + str(row[\"Position B\"])]))\n",
    "            if crosslink not in annika_links_1to1:\n",
    "                annika_links_1to1.add(crosslink)\n",
    "            \n",
    "for i, row in df_3_a.iterrows():\n",
    "    if row[\"TP/FP\"] == \"tp\":\n",
    "        if annika_get_tp_fp_nsp8(row) == \"tp\":\n",
    "            crosslink = \"-\".join(sorted([str(clean_sequence(row[\"Sequence A\"])) + str(row[\"Position A\"]), str(clean_sequence(row[\"Sequence B\"])) + str(row[\"Position B\"])]))\n",
    "            if crosslink not in annika_links_1to1:\n",
    "                annika_links_1to1.add(crosslink)\n",
    "            \n",
    "print(len(annika_links_1to1))\n",
    "annika_links_1to1"
   ]
  },
  {
   "cell_type": "code",
   "execution_count": 3,
   "id": "11fe23b0-91a8-4860-bc3e-580f282261e7",
   "metadata": {},
   "outputs": [
    {
     "name": "stdout",
     "output_type": "stream",
     "text": [
      "19\n"
     ]
    },
    {
     "data": {
      "text/plain": [
       "{'AKVTSAMQTMLFTMLR2-ANSAVKLQ6',\n",
       " 'AKVTSAMQTMLFTMLR2-DGCVPLNIIPLTTAAKLMVVIPDYNTYK16',\n",
       " 'AKVTSAMQTMLFTMLR2-KLDNDALNNIINNAR1',\n",
       " 'AKVTSAMQTMLFTMLR2-KSLNVAK1',\n",
       " 'AKVTSAMQTMLFTMLR2-MADQAMTQMYKQAR11',\n",
       " 'AKVTSAMQTMLFTMLR2-SEDKR4',\n",
       " 'ANSAVKLQ6-DGCVPLNIIPLTTAAKLMVVIPDYNTYK16',\n",
       " 'ANSAVKLQ6-KLDNDALNNIINNAR1',\n",
       " 'ANSAVKLQ6-SLNVAKSEFDRDAAMQR6',\n",
       " 'DGCVPLNIIPLTTAAKLMVVIPDYNTYK16-KLDNDALNNIINNAR1',\n",
       " 'DGCVPLNIIPLTTAAKLMVVIPDYNTYK16-SEDKR4',\n",
       " 'KLDNDALNNIINNAR1-KLDNDALNNIINNAR1',\n",
       " 'KLDNDALNNIINNAR1-KSLNVAK1',\n",
       " 'KLDNDALNNIINNAR1-MADQAMTQMYKQAR11',\n",
       " 'KLDNDALNNIINNAR1-SEDKR4',\n",
       " 'KLEKMADQAMTQMYK4-SEDKR4',\n",
       " 'KSLNVAK1-SEDKR4',\n",
       " 'MADQAMTQMYKQAR11-SEDKR4',\n",
       " 'SEDKR4-SLNVAKSEFDRDAAMQR6'}"
      ]
     },
     "execution_count": 3,
     "metadata": {},
     "output_type": "execute_result"
    }
   ],
   "source": [
    "annika_links_1to2 = set()\n",
    "\n",
    "for i, row in df_4_a.iterrows():\n",
    "    if row[\"TP/FP\"] == \"tp\":\n",
    "        if annika_get_tp_fp_nsp8(row) == \"tp\":\n",
    "            crosslink = \"-\".join(sorted([str(clean_sequence(row[\"Sequence A\"])) + str(row[\"Position A\"]), str(clean_sequence(row[\"Sequence B\"])) + str(row[\"Position B\"])]))\n",
    "            if crosslink not in annika_links_1to2:\n",
    "                annika_links_1to2.add(crosslink)\n",
    "            \n",
    "for i, row in df_5_a.iterrows():\n",
    "    if row[\"TP/FP\"] == \"tp\":\n",
    "        if annika_get_tp_fp_nsp8(row) == \"tp\":\n",
    "            crosslink = \"-\".join(sorted([str(clean_sequence(row[\"Sequence A\"])) + str(row[\"Position A\"]), str(clean_sequence(row[\"Sequence B\"])) + str(row[\"Position B\"])]))\n",
    "            if crosslink not in annika_links_1to2:\n",
    "                annika_links_1to2.add(crosslink)\n",
    "            \n",
    "for i, row in df_6_a.iterrows():\n",
    "    if row[\"TP/FP\"] == \"tp\":\n",
    "        if annika_get_tp_fp_nsp8(row) == \"tp\":\n",
    "            crosslink = \"-\".join(sorted([str(clean_sequence(row[\"Sequence A\"])) + str(row[\"Position A\"]), str(clean_sequence(row[\"Sequence B\"])) + str(row[\"Position B\"])]))\n",
    "            if crosslink not in annika_links_1to2:\n",
    "                annika_links_1to2.add(crosslink)\n",
    "            \n",
    "print(len(annika_links_1to2))\n",
    "annika_links_1to2"
   ]
  },
  {
   "cell_type": "code",
   "execution_count": 4,
   "id": "26be6b9f-2267-4503-8b6d-ec78d5cbf30d",
   "metadata": {},
   "outputs": [
    {
     "name": "stdout",
     "output_type": "stream",
     "text": [
      "22\n"
     ]
    },
    {
     "data": {
      "text/plain": [
       "{'AKVTSAMQTMLFTMLR2-ANSAVKLQ6',\n",
       " 'AKVTSAMQTMLFTMLR2-KLDNDALNNIINNAR1',\n",
       " 'AKVTSAMQTMLFTMLR2-MADQAMTQMYKQAR11',\n",
       " 'AKVTSAMQTMLFTMLR2-SEDKR4',\n",
       " 'ANSAVKLQ6-DGCVPLNIIPLTTAAKLMVVIPDYNTYK16',\n",
       " 'ANSAVKLQ6-KLDNDALNNIINNAR1',\n",
       " 'ANSAVKLQ6-KLEKMADQAMTQMYK1',\n",
       " 'ANSAVKLQ6-KLEKMADQAMTQMYK4',\n",
       " 'ANSAVKLQ6-SLNVAKSEFDRDAAMQR6',\n",
       " 'DGCVPLNIIPLTTAAKLMVVIPDYNTYK16-KLDNDALNNIINNAR1',\n",
       " 'DGCVPLNIIPLTTAAKLMVVIPDYNTYK16-SEDKR4',\n",
       " 'KLDNDALNNIINNAR1-KLDNDALNNIINNAR1',\n",
       " 'KLDNDALNNIINNAR1-KLEKMADQAMTQMYK4',\n",
       " 'KLDNDALNNIINNAR1-KSLNVAK1',\n",
       " 'KLDNDALNNIINNAR1-MADQAMTQMYKQAR11',\n",
       " 'KLDNDALNNIINNAR1-SEDKR4',\n",
       " 'KLDNDALNNIINNAR1-SLNVAKSEFDRDAAMQR6',\n",
       " 'KLEKMADQAMTQMYK1-SEDKR4',\n",
       " 'KLEKMADQAMTQMYK4-SEDKR4',\n",
       " 'KSLNVAK1-SEDKR4',\n",
       " 'MADQAMTQMYKQAR11-SEDKR4',\n",
       " 'SEDKR4-SLNVAKSEFDRDAAMQR6'}"
      ]
     },
     "execution_count": 4,
     "metadata": {},
     "output_type": "execute_result"
    }
   ],
   "source": [
    "annika_links_nsp8 = set()\n",
    "\n",
    "for i, row in df_7_a.iterrows():\n",
    "    if row[\"TP/FP\"] == \"tp\":\n",
    "        crosslink = \"-\".join(sorted([str(clean_sequence(row[\"Sequence A\"])) + str(row[\"Position A\"]), str(clean_sequence(row[\"Sequence B\"])) + str(row[\"Position B\"])]))\n",
    "        if crosslink not in annika_links_nsp8:\n",
    "            annika_links_nsp8.add(crosslink)\n",
    "            \n",
    "for i, row in df_8_a.iterrows():\n",
    "    if row[\"TP/FP\"] == \"tp\":\n",
    "        crosslink = \"-\".join(sorted([str(clean_sequence(row[\"Sequence A\"])) + str(row[\"Position A\"]), str(clean_sequence(row[\"Sequence B\"])) + str(row[\"Position B\"])]))\n",
    "        if crosslink not in annika_links_nsp8:\n",
    "            annika_links_nsp8.add(crosslink)\n",
    "            \n",
    "for i, row in df_9_a.iterrows():\n",
    "    if row[\"TP/FP\"] == \"tp\":\n",
    "        crosslink = \"-\".join(sorted([str(clean_sequence(row[\"Sequence A\"])) + str(row[\"Position A\"]), str(clean_sequence(row[\"Sequence B\"])) + str(row[\"Position B\"])]))\n",
    "        if crosslink not in annika_links_nsp8:\n",
    "            annika_links_nsp8.add(crosslink)\n",
    "            \n",
    "print(len(annika_links_nsp8))\n",
    "annika_links_nsp8"
   ]
  },
  {
   "cell_type": "code",
   "execution_count": 5,
   "id": "cb7fd428-feda-4d10-845d-411cf8007666",
   "metadata": {},
   "outputs": [],
   "source": [
    "crosslinks_nsp8 = {\"crosslinks\": list(annika_links_nsp8)}\n",
    "\n",
    "with open(\"annika_crosslinks_nsp8.json\", \"w\", encoding = \"utf-8\") as f:\n",
    "    json.dump(crosslinks_nsp8, f)\n",
    "    f.close()"
   ]
  },
  {
   "cell_type": "code",
   "execution_count": 6,
   "id": "d670ce59-c6f6-4534-bfdd-16792ecd1b8f",
   "metadata": {},
   "outputs": [],
   "source": [
    "crosslinks_all = {\"crosslinks\": list(annika_links_nsp8.union(annika_links_1to1, annika_links_1to2))}\n",
    "\n",
    "with open(\"annika_crosslinks_all.json\", \"w\", encoding = \"utf-8\") as f:\n",
    "    json.dump(crosslinks_all, f)\n",
    "    f.close()"
   ]
  },
  {
   "cell_type": "code",
   "execution_count": null,
   "id": "0727ea68-416d-4ba0-98c8-0f7ea6bfab4c",
   "metadata": {},
   "outputs": [],
   "source": []
  }
 ],
 "metadata": {
  "kernelspec": {
   "display_name": "Python 3 (ipykernel)",
   "language": "python",
   "name": "python3"
  },
  "language_info": {
   "codemirror_mode": {
    "name": "ipython",
    "version": 3
   },
   "file_extension": ".py",
   "mimetype": "text/x-python",
   "name": "python",
   "nbconvert_exporter": "python",
   "pygments_lexer": "ipython3",
   "version": "3.7.3"
  }
 },
 "nbformat": 4,
 "nbformat_minor": 5
}
